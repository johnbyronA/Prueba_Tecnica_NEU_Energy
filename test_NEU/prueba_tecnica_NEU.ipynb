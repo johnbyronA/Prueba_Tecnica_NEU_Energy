{
 "cells": [
  {
   "cell_type": "markdown",
   "id": "ce08fea3-5ae0-429b-afbb-77e29af7c1d4",
   "metadata": {},
   "source": [
    "1. Back-end (1 Hora)\n",
    "\n",
    "Dado el vector data_vector.csv desarrollar un algoritmo que determine la cantidad de sub-vectores se pueden crear del mismo con las siguientes condiciones:\n",
    "•\tLa suma de cada uno sus valores deben ser igual a 52.\n",
    "•\tLos valores de cada sub-vector solo pueden estar una vez en el mismo.\n",
    "•\tSi el valor es ubicado en un sub-vector este valor no se puede ubicar en otros sub-vectores.\n",
    "•\tUsar el lenguaje de programación con el cual se sienta más cómodo.\n"
   ]
  },
  {
   "cell_type": "code",
   "execution_count": 6,
   "id": "21d469f4-79aa-482c-8131-e99e17aae3c5",
   "metadata": {
    "tags": []
   },
   "outputs": [
    {
     "name": "stdout",
     "output_type": "stream",
     "text": [
      "El resumen de frecuencias ha sido guardado en 'resumen_frecuencias.csv'.\n"
     ]
    }
   ],
   "source": [
    "import pandas as pd\n",
    "\n",
    "# Ruta al archivo CSV\n",
    "archivo_csv = 'data_vector.csv'\n",
    "\n",
    "# Cargar el archivo CSV sin encabezado en la primera fila\n",
    "df = pd.read_csv(archivo_csv, header=None, names=['Numeros'])\n",
    "\n",
    "# Conteo de frecuencias de cada número\n",
    "conteo_frecuencias = df['Numeros'].value_counts().sort_index()\n",
    "\n",
    "# Convertir el conteo de frecuencias en un DataFrame para facilitar el manejo\n",
    "frecuencias_df = conteo_frecuencias.reset_index()\n",
    "frecuencias_df.columns = ['Número', 'Frecuencia']\n",
    "\n",
    "# Guardar el resumen en un nuevo archivo CSV\n",
    "frecuencias_df.to_csv('resumen_frecuencias.csv', index=False)\n",
    "\n",
    "print(\"El resumen de frecuencias ha sido guardado en 'resumen_frecuencias.csv'.\")\n"
   ]
  },
  {
   "cell_type": "code",
   "execution_count": null,
   "id": "a24408bf-6e32-4544-b834-8af297cae46b",
   "metadata": {
    "tags": []
   },
   "outputs": [],
   "source": [
    "def encontrar_subconjuntos_con_frecuencias(numeros, frecuencias, objetivo):\n",
    "    soluciones = []\n",
    "    def backtrack(subconjunto_actual, suma_actual, inicio):\n",
    "        if suma_actual == objetivo:\n",
    "            soluciones.append(subconjunto_actual.copy())\n",
    "            return\n",
    "        for i in range(inicio, len(numeros)):\n",
    "            numero = numeros[i]\n",
    "            if frecuencias[numero] > 0 and suma_actual + numero <= objetivo:\n",
    "                # Usar este número\n",
    "                frecuencias[numero] -= 1\n",
    "                subconjunto_actual.append(numero)\n",
    "                backtrack(subconjunto_actual, suma_actual + numero, i)  # Permitir usar el mismo número más de una vez si su frecuencia lo permite\n",
    "                \n",
    "                # Revertir la decisión\n",
    "                subconjunto_actual.pop()\n",
    "                frecuencias[numero] += 1\n",
    "    # Inicializar el proceso de backtracking\n",
    "    backtrack([], 0, 0)\n",
    "    \n",
    "    # Eliminar números usados de la lista y sus frecuencias\n",
    "    numeros[:] = [n for n in numeros if frecuencias[n] > 0]\n",
    "    for n in list(frecuencias.keys()):\n",
    "        if frecuencias[n] == 0:\n",
    "            del frecuencias[n]\n",
    "            \n",
    "    return soluciones\n",
    "\n",
    "# Ejemplo de uso\n",
    "numeros = [n for n in range(1, 31)]  # Números del 1 al 30\n",
    "frecuencias = {n: 1 for n in numeros}  # Frecuencia inicial de 1 para cada número\n",
    "\n",
    "soluciones_totales = []\n",
    "while numeros:\n",
    "    soluciones = encontrar_subconjuntos_con_frecuencias(numeros, frecuencias, 52)\n",
    "    if not soluciones:\n",
    "        break\n",
    "    for s in soluciones:\n",
    "        soluciones_totales.append(s)\n",
    "        for n in s:\n",
    "            if n in frecuencias:  # Disminuir la frecuencia de números usados\n",
    "                frecuencias[n] -= 1\n",
    "                if frecuencias[n] == 0:\n",
    "                    numeros.remove(n)  # Eliminar números con frecuencia 0\n",
    "\n",
    "print(f\"Se encontraron {len(soluciones_totales)} subconjuntos que suman 52.\")\n",
    "for i, subconjunto in enumerate(soluciones_totales, 1):\n",
    "    print(f\"Subconjunto {i}: {subconjunto}\")\n"
   ]
  },
  {
   "cell_type": "code",
   "execution_count": 24,
   "id": "6f896c9a-281c-440f-8c49-9843276c1af5",
   "metadata": {
    "tags": []
   },
   "outputs": [
    {
     "name": "stdout",
     "output_type": "stream",
     "text": [
      "Se encontraron 5 subconjuntos únicos que suman 52, sin repetir números entre ellos.\n",
      "Subconjunto único 1: [1, 2, 3, 4, 5, 6, 7, 8, 16]\n",
      "Subconjunto único 2: [9, 10, 11, 22]\n",
      "Subconjunto único 3: [12, 13, 27]\n",
      "Subconjunto único 4: [14, 15, 23]\n",
      "Subconjunto único 5: [24, 28]\n"
     ]
    }
   ],
   "source": [
    "def encontrar_subconjuntos_con_frecuencias_unicas(numeros, frecuencias, objetivo):\n",
    "    soluciones = []\n",
    "    numeros_utilizados_globalmente = set()  # Registra los números usados en cualquier subconjunto válido\n",
    "\n",
    "    def backtrack(subconjunto_actual, suma_actual, inicio):\n",
    "        if suma_actual == objetivo:\n",
    "            # Verificar que el subconjunto no contenga números ya utilizados en otros subconjuntos\n",
    "            if not numeros_utilizados_globalmente.intersection(subconjunto_actual):\n",
    "                soluciones.append(subconjunto_actual.copy())\n",
    "                # Marcar los números de este subconjunto como utilizados globalmente\n",
    "                numeros_utilizados_globalmente.update(subconjunto_actual)\n",
    "            return\n",
    "        for i in range(inicio, len(numeros)):\n",
    "            numero = numeros[i]\n",
    "            if numero in numeros_utilizados_globalmente:  # Saltar números ya utilizados globalmente\n",
    "                continue\n",
    "            if frecuencias[numero] > 0 and suma_actual + numero <= objetivo:\n",
    "                frecuencias[numero] -= 1\n",
    "                backtrack(subconjunto_actual + [numero], suma_actual + numero, i)\n",
    "                frecuencias[numero] += 1\n",
    "\n",
    "    backtrack([], 0, 0)\n",
    "\n",
    "    # Al final, soluciones contiene solo los subconjuntos que cumplen con la restricción\n",
    "    return soluciones\n",
    "\n",
    "# Ejemplo de uso\n",
    "numeros = [n for n in range(1, 31)]  # Números del 1 al 30\n",
    "frecuencias = {n: 1 for n in numeros}  # Supone una frecuencia de 1 para cada número\n",
    "\n",
    "soluciones_unicas = encontrar_subconjuntos_con_frecuencias_unicas(numeros, frecuencias, 52)\n",
    "\n",
    "print(f\"Se encontraron {len(soluciones_unicas)} subconjuntos únicos que suman 52, sin repetir números entre ellos.\")\n",
    "for i, subconjunto in enumerate(soluciones_unicas, 1):\n",
    "    print(f\"Subconjunto único {i}: {subconjunto}\")\n"
   ]
  },
  {
   "cell_type": "markdown",
   "id": "fc211dc7-b6da-48d1-9cb4-a6a8dc4c5a9a",
   "metadata": {},
   "source": [
    "2. Database (30 min)\n",
    "\n",
    "Una vez hallados los sub-vectores debe almacenarlos en un motor de base de datos según convenga, agregarle un identificador único a cada sub-vector.\n",
    "posteriormente consulte los valores y expórtelos en un archivo csv.\n"
   ]
  },
  {
   "cell_type": "code",
   "execution_count": 15,
   "id": "747c4396-c948-4492-8bf4-fcbfc645964d",
   "metadata": {
    "tags": []
   },
   "outputs": [],
   "source": [
    "import sqlite3\n",
    "\n",
    "# Conectar a la base de datos SQLite, la creará si no existe\n",
    "conn = sqlite3.connect('subvectores.db')\n",
    "c = conn.cursor()\n",
    "\n",
    "# Crear una tabla para almacenar los subvectores\n",
    "c.execute('''CREATE TABLE IF NOT EXISTS subvectores\n",
    "             (id INTEGER PRIMARY KEY, subvector TEXT)''')\n",
    "\n",
    "# Insertar los subvectores en la base de datos\n",
    "for subconjunto in soluciones_unicas:\n",
    "    subvector_str = ','.join(map(str, subconjunto))  # Convertir el subconjunto a una cadena de texto\n",
    "    c.execute(\"INSERT INTO subvectores (subvector) VALUES (?)\", (subvector_str,))\n",
    "\n",
    "# Guardar (commit) los cambios y cerrar la conexión a la base de datos\n",
    "conn.commit()\n",
    "conn.close()\n"
   ]
  },
  {
   "cell_type": "code",
   "execution_count": 16,
   "id": "9190806d-8865-45b1-96cf-c5251ea76704",
   "metadata": {
    "tags": []
   },
   "outputs": [],
   "source": [
    "import csv\n",
    "\n",
    "# Conectar de nuevo a la base de datos\n",
    "conn = sqlite3.connect('subvectores.db')\n",
    "c = conn.cursor()\n",
    "\n",
    "# Consultar todos los subvectores almacenados\n",
    "c.execute(\"SELECT * FROM subvectores\")\n",
    "subvectores = c.fetchall()\n",
    "\n",
    "# Exportar a un archivo CSV\n",
    "with open('subvectores_exportados.csv', 'w', newline='') as csvfile:\n",
    "    writer = csv.writer(csvfile)\n",
    "    writer.writerow(['ID', 'Subvector'])  # Escribir el encabezado del CSV\n",
    "    writer.writerows(subvectores)\n",
    "\n",
    "# Cerrar la conexión a la base de datos\n",
    "conn.close()"
   ]
  },
  {
   "cell_type": "markdown",
   "id": "60025d18-1c69-4fd2-8537-f68f651a72e5",
   "metadata": {},
   "source": [
    "3. Front-end (30 min)\n",
    "Con el archivo generado en el numeral 2. Presente su contenido en una tabla, la cual se pueda consultar un sub-vector especifico basado en su id único.\n"
   ]
  },
  {
   "cell_type": "code",
   "execution_count": 22,
   "id": "abdb6011-dedb-43bd-9deb-eaf221d62bd6",
   "metadata": {
    "tags": []
   },
   "outputs": [
    {
     "name": "stdout",
     "output_type": "stream",
     "text": [
      " * Serving Flask app '__main__' (lazy loading)\n",
      " * Environment: production\n",
      "\u001b[31m   WARNING: This is a development server. Do not use it in a production deployment.\u001b[0m\n",
      "\u001b[2m   Use a production WSGI server instead.\u001b[0m\n",
      " * Debug mode: off\n"
     ]
    },
    {
     "name": "stderr",
     "output_type": "stream",
     "text": [
      " * Running on http://127.0.0.1:5000/ (Press CTRL+C to quit)\n",
      "127.0.0.1 - - [14/Mar/2024 16:35:56] \"GET / HTTP/1.1\" 200 -\n",
      "127.0.0.1 - - [14/Mar/2024 16:35:56] \"GET /favicon.ico HTTP/1.1\" 404 -\n",
      "127.0.0.1 - - [14/Mar/2024 16:36:00] \"POST / HTTP/1.1\" 200 -\n"
     ]
    }
   ],
   "source": [
    "from flask import Flask, request, render_template_string\n",
    "import csv\n",
    "\n",
    "app = Flask(__name__)\n",
    "\n",
    "def cargar_subvectores_desde_csv(nombre_archivo):\n",
    "    subvectores = {}\n",
    "    with open(nombre_archivo, newline='') as csvfile:\n",
    "        reader = csv.DictReader(csvfile)\n",
    "        for fila in reader:\n",
    "            id_subvector = fila['ID']\n",
    "            subvector = fila['Subvector']\n",
    "            subvectores[id_subvector] = subvector\n",
    "    return subvectores\n",
    "\n",
    "# Carga los subvectores al iniciar la aplicación\n",
    "subvectores = cargar_subvectores_desde_csv('subvectores_exportados.csv')\n",
    "\n",
    "@app.route('/', methods=['GET', 'POST'])\n",
    "def index():\n",
    "    subvector_encontrado = \"\"\n",
    "    if request.method == 'POST':\n",
    "        id_subvector = request.form.get('id_subvector')\n",
    "        subvector_encontrado = subvectores.get(id_subvector, \"No se encontró un sub-vector con ese ID.\")\n",
    "    return render_template_string('''\n",
    "        <!DOCTYPE html>\n",
    "        <html>\n",
    "        <head>\n",
    "            <title>Consulta de Sub-Vectores</title>\n",
    "        </head>\n",
    "        <body>\n",
    "            <h2>Consultar Sub-Vector por ID</h2>\n",
    "            <form method=\"post\">\n",
    "                ID del Sub-Vector: <input type=\"text\" name=\"id_subvector\">\n",
    "                <input type=\"submit\" value=\"Consultar\">\n",
    "            </form>\n",
    "            <p>Sub-Vector: {{ subvector_encontrado }}</p>\n",
    "        </body>\n",
    "        </html>\n",
    "    ''', subvector_encontrado=subvector_encontrado)\n",
    "\n",
    "if __name__ == '__main__':\n",
    "    app.run(debug=False)\n",
    "\n"
   ]
  },
  {
   "cell_type": "code",
   "execution_count": null,
   "id": "466e9f12-7927-48c8-8d0b-47b272ca870d",
   "metadata": {},
   "outputs": [],
   "source": []
  }
 ],
 "metadata": {
  "kernelspec": {
   "display_name": "Python 3 (ipykernel)",
   "language": "python",
   "name": "python3"
  },
  "language_info": {
   "codemirror_mode": {
    "name": "ipython",
    "version": 3
   },
   "file_extension": ".py",
   "mimetype": "text/x-python",
   "name": "python",
   "nbconvert_exporter": "python",
   "pygments_lexer": "ipython3",
   "version": "3.11.3"
  }
 },
 "nbformat": 4,
 "nbformat_minor": 5
}
